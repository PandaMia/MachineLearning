{
 "cells": [
  {
   "cell_type": "code",
   "execution_count": 1,
   "metadata": {},
   "outputs": [],
   "source": [
    "class LogReg:\n",
    "    \n",
    "    def __init__(self, C = 0, k = 0.1, min_change = 10**-5, n_iter = 10000):\n",
    "        self.C = C # коэффициент регуляризации\n",
    "        self.k = k # длина градиентного шага   \n",
    "        self.min_change = min_change # величина минимального изменения весов\n",
    "        self.n_iter = n_iter # количество итераций обучения\n",
    "    \n",
    "    def fit(self, X, Y):\n",
    "        self.lenth = X.shape[0] # количество объектов обучающей выборки\n",
    "        self.weights = np.zeros(X.shape[1]) # инициализация весов (на старте веса нулевые)\n",
    "        \n",
    "        for step in range(self.n_iter): \n",
    "            prev_weights = np.copy(self.weights) # веса на предыдущей итерации\n",
    "            \n",
    "            Margin = X.dot(self.weights) * Y # рассчитываем отступ \n",
    "            prob = self.sigmoid(Margin) # рассчитываем апостериорную вероятность принадлежности к классу\n",
    "\n",
    "            grad = self.gradient(X, Y, prob) # рассчитываем градиент\n",
    "                     \n",
    "            weight_delta = self.k * grad\n",
    "            self.weights -= weight_delta # обновляем веса\n",
    "            \n",
    "            # проверяем евклидово расстояние между векторами весов на соседних итерациях\n",
    "            dist = np.sqrt(np.sum(np.square(self.weights - prev_weights)))\n",
    "            if dist <= self.min_change:\n",
    "                print(f'Алгоритм сошелся на {step} итерации')\n",
    "                break\n",
    "            \n",
    "        return self\n",
    "    \n",
    "    def predict(self, X):\n",
    "        dot_prod = X.dot(self.weights)\n",
    "        pred = self.sigmoid(dot_prod)\n",
    "        return pred\n",
    "        \n",
    "    def sigmoid(self, dot_prod):\n",
    "        return 1 / (1 + np.exp(-dot_prod))\n",
    "    \n",
    "    def gradient(self, X, Y, prob):\n",
    "        grad = np.zeros(X.shape[1])\n",
    "        for i in range(X.shape[1]):\n",
    "            grad[i] = - np.sum(Y * X[:, i] * (1 - prob)) / self.lenth + self.C * self.weights[i]\n",
    "        return grad"
   ]
  }
 ],
 "metadata": {
  "kernelspec": {
   "display_name": "Python 3",
   "language": "python",
   "name": "python3"
  },
  "language_info": {
   "codemirror_mode": {
    "name": "ipython",
    "version": 3
   },
   "file_extension": ".py",
   "mimetype": "text/x-python",
   "name": "python",
   "nbconvert_exporter": "python",
   "pygments_lexer": "ipython3",
   "version": "3.7.3"
  }
 },
 "nbformat": 4,
 "nbformat_minor": 2
}
