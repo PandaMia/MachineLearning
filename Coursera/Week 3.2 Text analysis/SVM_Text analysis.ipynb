{
 "cells": [
  {
   "cell_type": "code",
   "execution_count": 1,
   "metadata": {},
   "outputs": [],
   "source": [
    "from sklearn import datasets"
   ]
  },
  {
   "cell_type": "code",
   "execution_count": 2,
   "metadata": {},
   "outputs": [],
   "source": [
    "import numpy as np\n",
    "import pandas as pd\n",
    "from sklearn.svm import SVC\n",
    "from sklearn.feature_extraction.text import TfidfVectorizer\n",
    "from sklearn.model_selection import KFold\n",
    "from sklearn.model_selection import GridSearchCV"
   ]
  },
  {
   "cell_type": "markdown",
   "metadata": {},
   "source": [
    "Загрузка объектов из новостного датасета 20 newsgroups, относящиеся к категориям \"космос\" и \"атеизм\""
   ]
  },
  {
   "cell_type": "code",
   "execution_count": 3,
   "metadata": {},
   "outputs": [],
   "source": [
    "newsgroups = datasets.fetch_20newsgroups(subset='all', \n",
    "                                         categories=['alt.atheism', 'sci.space'])"
   ]
  },
  {
   "cell_type": "code",
   "execution_count": 4,
   "metadata": {},
   "outputs": [],
   "source": [
    "# набор данных\n",
    "X = newsgroups.data"
   ]
  },
  {
   "cell_type": "code",
   "execution_count": 5,
   "metadata": {},
   "outputs": [],
   "source": [
    "# набор меток классов\n",
    "Y = newsgroups.target"
   ]
  },
  {
   "cell_type": "markdown",
   "metadata": {},
   "source": [
    "Можно кодировать тексты, используя TF-IDF. Это показатель, который равен произведению двух чисел: TF (term frequency) и IDF (inverse document frequency).\n",
    "Первая равна отношению числа вхождений слова в документ к общей длине документа. \n",
    "Вторая величина зависит от того, в скольки документах выборки встречается это слово. Чем больше таких документов, тем меньше IDF. \n",
    "Таким образом, TF-IDF будет иметь высокое значение для тех слов, которые много раз встречаются в данном документе, и редко встречаются в остальных."
   ]
  },
  {
   "cell_type": "code",
   "execution_count": 6,
   "metadata": {},
   "outputs": [],
   "source": [
    "vectorizer = TfidfVectorizer()"
   ]
  },
  {
   "cell_type": "code",
   "execution_count": 7,
   "metadata": {},
   "outputs": [],
   "source": [
    "# Преобразование обучающей выборки в TF-IDF\n",
    "# получаем матрицу X (строка - это текст, столбцы - это значение TF-IDF для каждого слова)\n",
    "X = vectorizer.fit_transform(X)"
   ]
  },
  {
   "cell_type": "code",
   "execution_count": 8,
   "metadata": {},
   "outputs": [
    {
     "data": {
      "text/plain": [
       "(1786, 28382)"
      ]
     },
     "execution_count": 8,
     "metadata": {},
     "output_type": "execute_result"
    }
   ],
   "source": [
    "X.shape"
   ]
  },
  {
   "cell_type": "markdown",
   "metadata": {},
   "source": [
    "вывод всех слов\n",
    "print(vectorizer.get_feature_names())"
   ]
  },
  {
   "cell_type": "markdown",
   "metadata": {},
   "source": [
    "Подбор параметров удобно делать с помощью класса sklearn.model_selection.GridSearchCV"
   ]
  },
  {
   "cell_type": "code",
   "execution_count": 9,
   "metadata": {},
   "outputs": [],
   "source": [
    "# Подбор параметра C из множества [10^-5, 10^-4, ... 10^4, 10^5]\n",
    "grid = {'C': np.power(10.0, np.arange(-5, 6))}\n",
    "\n",
    "# генератор разбиений\n",
    "cv = KFold(n_splits=5, \n",
    "           shuffle=True, \n",
    "           random_state=241)\n",
    "\n",
    "# Классификатор\n",
    "clf = SVC(kernel='linear', \n",
    "          random_state=241)\n",
    "\n",
    "# Первым аргументом в GridSearchCV передается классификатор, для которого будут подбираться значения параметров, \n",
    "# вторым — словарь (dict), задающий сетку параметров для перебора\n",
    "gs = GridSearchCV(clf, \n",
    "                  grid, \n",
    "                  scoring='accuracy', \n",
    "                  cv=cv)"
   ]
  },
  {
   "cell_type": "code",
   "execution_count": 10,
   "metadata": {},
   "outputs": [
    {
     "data": {
      "text/plain": [
       "GridSearchCV(cv=KFold(n_splits=5, random_state=241, shuffle=True),\n",
       "             error_score=nan,\n",
       "             estimator=SVC(C=1.0, break_ties=False, cache_size=200,\n",
       "                           class_weight=None, coef0=0.0,\n",
       "                           decision_function_shape='ovr', degree=3,\n",
       "                           gamma='scale', kernel='linear', max_iter=-1,\n",
       "                           probability=False, random_state=241, shrinking=True,\n",
       "                           tol=0.001, verbose=False),\n",
       "             iid='deprecated', n_jobs=None,\n",
       "             param_grid={'C': array([1.e-05, 1.e-04, 1.e-03, 1.e-02, 1.e-01, 1.e+00, 1.e+01, 1.e+02,\n",
       "       1.e+03, 1.e+04, 1.e+05])},\n",
       "             pre_dispatch='2*n_jobs', refit=True, return_train_score=False,\n",
       "             scoring='accuracy', verbose=0)"
      ]
     },
     "execution_count": 10,
     "metadata": {},
     "output_type": "execute_result"
    }
   ],
   "source": [
    "# перебор параметров (в качестве аргументов передаем обработанные тексты и метки ответов)\n",
    "gs.fit(X, Y)"
   ]
  },
  {
   "cell_type": "code",
   "execution_count": 11,
   "metadata": {},
   "outputs": [
    {
     "data": {
      "text/plain": [
       "{'mean_fit_time': array([3.24639139, 2.96979852, 3.03780189, 2.92542434, 2.45042171,\n",
       "        1.51960349, 1.51862345, 1.5334291 , 1.523032  , 1.53622088,\n",
       "        1.53083358]),\n",
       " 'std_fit_time': array([0.12272881, 0.08505089, 0.02812182, 0.05163215, 0.01282417,\n",
       "        0.03452071, 0.01835215, 0.03080719, 0.03244785, 0.04223542,\n",
       "        0.04693114]),\n",
       " 'mean_score_time': array([0.77521195, 0.71042447, 0.70140157, 0.70639782, 0.60119829,\n",
       "        0.33221664, 0.33720741, 0.33280802, 0.33137622, 0.33662276,\n",
       "        0.33679843]),\n",
       " 'std_score_time': array([0.03050614, 0.00609825, 0.00797167, 0.00833818, 0.02478433,\n",
       "        0.00999688, 0.01160301, 0.00824949, 0.00878403, 0.01173882,\n",
       "        0.00721823]),\n",
       " 'param_C': masked_array(data=[1e-05, 0.0001, 0.001, 0.01, 0.1, 1.0, 10.0, 100.0,\n",
       "                    1000.0, 10000.0, 100000.0],\n",
       "              mask=[False, False, False, False, False, False, False, False,\n",
       "                    False, False, False],\n",
       "        fill_value='?',\n",
       "             dtype=object),\n",
       " 'params': [{'C': 1e-05},\n",
       "  {'C': 0.0001},\n",
       "  {'C': 0.001},\n",
       "  {'C': 0.01},\n",
       "  {'C': 0.1},\n",
       "  {'C': 1.0},\n",
       "  {'C': 10.0},\n",
       "  {'C': 100.0},\n",
       "  {'C': 1000.0},\n",
       "  {'C': 10000.0},\n",
       "  {'C': 100000.0}],\n",
       " 'split0_test_score': array([0.54469274, 0.54469274, 0.54469274, 0.54469274, 0.95810056,\n",
       "        0.99441341, 0.99441341, 0.99441341, 0.99441341, 0.99441341,\n",
       "        0.99441341]),\n",
       " 'split1_test_score': array([0.57983193, 0.57983193, 0.57983193, 0.57983193, 0.94957983,\n",
       "        0.9859944 , 0.9859944 , 0.9859944 , 0.9859944 , 0.9859944 ,\n",
       "        0.9859944 ]),\n",
       " 'split2_test_score': array([0.57142857, 0.57142857, 0.57142857, 0.57142857, 0.95798319,\n",
       "        1.        , 1.        , 1.        , 1.        , 1.        ,\n",
       "        1.        ]),\n",
       " 'split3_test_score': array([0.50140056, 0.50140056, 0.50140056, 0.50140056, 0.93557423,\n",
       "        0.99159664, 0.99159664, 0.99159664, 0.99159664, 0.99159664,\n",
       "        0.99159664]),\n",
       " 'split4_test_score': array([0.56582633, 0.56582633, 0.56582633, 0.56582633, 0.94957983,\n",
       "        0.99439776, 0.99439776, 0.99439776, 0.99439776, 0.99439776,\n",
       "        0.99439776]),\n",
       " 'mean_test_score': array([0.55263603, 0.55263603, 0.55263603, 0.55263603, 0.95016353,\n",
       "        0.99328044, 0.99328044, 0.99328044, 0.99328044, 0.99328044,\n",
       "        0.99328044]),\n",
       " 'std_test_score': array([0.02812447, 0.02812447, 0.02812447, 0.02812447, 0.00821794,\n",
       "        0.00455206, 0.00455206, 0.00455206, 0.00455206, 0.00455206,\n",
       "        0.00455206]),\n",
       " 'rank_test_score': array([8, 8, 8, 8, 7, 1, 1, 1, 1, 1, 1])}"
      ]
     },
     "execution_count": 11,
     "metadata": {},
     "output_type": "execute_result"
    }
   ],
   "source": [
    "# результаты перебора\n",
    "gs.cv_results_"
   ]
  },
  {
   "cell_type": "code",
   "execution_count": 12,
   "metadata": {},
   "outputs": [
    {
     "data": {
      "text/plain": [
       "0.9932804406678872"
      ]
     },
     "execution_count": 12,
     "metadata": {},
     "output_type": "execute_result"
    }
   ],
   "source": [
    "# лучший результат обучения модели\n",
    "gs.best_score_"
   ]
  },
  {
   "cell_type": "code",
   "execution_count": 13,
   "metadata": {},
   "outputs": [
    {
     "data": {
      "text/plain": [
       "1.0"
      ]
     },
     "execution_count": 13,
     "metadata": {},
     "output_type": "execute_result"
    }
   ],
   "source": [
    "# лучший параметр\n",
    "best_C = gs.best_params_['C']\n",
    "best_C"
   ]
  },
  {
   "cell_type": "code",
   "execution_count": 14,
   "metadata": {},
   "outputs": [
    {
     "data": {
      "text/plain": [
       "SVC(C=1.0, break_ties=False, cache_size=200, class_weight=None, coef0=0.0,\n",
       "    decision_function_shape='ovr', degree=3, gamma='scale', kernel='linear',\n",
       "    max_iter=-1, probability=False, random_state=241, shrinking=True, tol=0.001,\n",
       "    verbose=False)"
      ]
     },
     "execution_count": 14,
     "metadata": {},
     "output_type": "execute_result"
    }
   ],
   "source": [
    "# обучение классификатора с лучшим параметром С\n",
    "classifier = SVC(C = best_C, kernel='linear', random_state=241)\n",
    "classifier.fit(X, Y)"
   ]
  },
  {
   "cell_type": "code",
   "execution_count": 15,
   "metadata": {},
   "outputs": [
    {
     "data": {
      "text/plain": [
       "scipy.sparse.csr.csr_matrix"
      ]
     },
     "execution_count": 15,
     "metadata": {},
     "output_type": "execute_result"
    }
   ],
   "source": [
    "# веса хранятся в поле coef_\n",
    "type(classifier.coef_)"
   ]
  },
  {
   "cell_type": "code",
   "execution_count": 16,
   "metadata": {},
   "outputs": [],
   "source": [
    "# превращаем в ndarray (индексы при этом сохраняются)\n",
    "array = classifier.coef_.toarray()\n",
    "# берем абсолютные значения коэффициентов\n",
    "array = abs(array)\n",
    "array_sorted = sorted(array[0], reverse = True)"
   ]
  },
  {
   "cell_type": "code",
   "execution_count": 17,
   "metadata": {},
   "outputs": [
    {
     "data": {
      "text/plain": [
       "[2.6631647884797105,\n",
       " 1.9203794002294927,\n",
       " 1.2546899512384038,\n",
       " 1.2491800073760078,\n",
       " 1.201611181752071,\n",
       " 1.1801315951388636,\n",
       " 1.13908083789883,\n",
       " 1.1306123446649008,\n",
       " 1.0970936466401477,\n",
       " 1.0293069271856938]"
      ]
     },
     "execution_count": 17,
     "metadata": {},
     "output_type": "execute_result"
    }
   ],
   "source": [
    "# выбираем 10 наибольших коэффициентов\n",
    "ten_of_the_best = array_sorted[:10]\n",
    "ten_of_the_best"
   ]
  },
  {
   "cell_type": "code",
   "execution_count": 18,
   "metadata": {},
   "outputs": [
    {
     "data": {
      "text/plain": [
       "['atheism',\n",
       " 'atheists',\n",
       " 'bible',\n",
       " 'god',\n",
       " 'keith',\n",
       " 'moon',\n",
       " 'religion',\n",
       " 'sci',\n",
       " 'sky',\n",
       " 'space']"
      ]
     },
     "execution_count": 18,
     "metadata": {},
     "output_type": "execute_result"
    }
   ],
   "source": [
    "# по индексам коэффициентов получаем слова, которым классификатор дал наибольший вес\n",
    "list_of_words = []\n",
    "for best in ten_of_the_best:\n",
    "    # в неотсортированном списке находим индексы наибольших коэффициентов\n",
    "    index_of_word = np.where(array == best)[1][0]\n",
    "    list_of_words.append(vectorizer.get_feature_names()[index_of_word])\n",
    "list_of_words = sorted(list_of_words)\n",
    "list_of_words"
   ]
  },
  {
   "cell_type": "code",
   "execution_count": null,
   "metadata": {},
   "outputs": [],
   "source": []
  }
 ],
 "metadata": {
  "kernelspec": {
   "display_name": "Python 3",
   "language": "python",
   "name": "python3"
  },
  "language_info": {
   "codemirror_mode": {
    "name": "ipython",
    "version": 3
   },
   "file_extension": ".py",
   "mimetype": "text/x-python",
   "name": "python",
   "nbconvert_exporter": "python",
   "pygments_lexer": "ipython3",
   "version": "3.7.3"
  }
 },
 "nbformat": 4,
 "nbformat_minor": 2
}
