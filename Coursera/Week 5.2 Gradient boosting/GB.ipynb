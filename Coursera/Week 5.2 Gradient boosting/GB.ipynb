{
 "cells": [
  {
   "cell_type": "code",
   "execution_count": 1,
   "metadata": {},
   "outputs": [],
   "source": [
    "import numpy as np\n",
    "import pandas as pd\n",
    "from sklearn.ensemble import RandomForestClassifier, GradientBoostingClassifier\n",
    "from sklearn.model_selection import train_test_split\n",
    "from sklearn.metrics import log_loss\n",
    "import matplotlib.pyplot as plt\n",
    "\n",
    "%matplotlib inline"
   ]
  },
  {
   "cell_type": "code",
   "execution_count": 2,
   "metadata": {},
   "outputs": [],
   "source": [
    "data = pd.read_csv('C:/Users/1/Data/gbm-data.csv')"
   ]
  },
  {
   "cell_type": "code",
   "execution_count": 3,
   "metadata": {},
   "outputs": [
    {
     "data": {
      "text/html": [
       "<div>\n",
       "<style scoped>\n",
       "    .dataframe tbody tr th:only-of-type {\n",
       "        vertical-align: middle;\n",
       "    }\n",
       "\n",
       "    .dataframe tbody tr th {\n",
       "        vertical-align: top;\n",
       "    }\n",
       "\n",
       "    .dataframe thead th {\n",
       "        text-align: right;\n",
       "    }\n",
       "</style>\n",
       "<table border=\"1\" class=\"dataframe\">\n",
       "  <thead>\n",
       "    <tr style=\"text-align: right;\">\n",
       "      <th></th>\n",
       "      <th>Activity</th>\n",
       "      <th>D1</th>\n",
       "      <th>D2</th>\n",
       "      <th>D3</th>\n",
       "      <th>D4</th>\n",
       "      <th>D5</th>\n",
       "      <th>D6</th>\n",
       "      <th>D7</th>\n",
       "      <th>D8</th>\n",
       "      <th>D9</th>\n",
       "      <th>...</th>\n",
       "      <th>D1767</th>\n",
       "      <th>D1768</th>\n",
       "      <th>D1769</th>\n",
       "      <th>D1770</th>\n",
       "      <th>D1771</th>\n",
       "      <th>D1772</th>\n",
       "      <th>D1773</th>\n",
       "      <th>D1774</th>\n",
       "      <th>D1775</th>\n",
       "      <th>D1776</th>\n",
       "    </tr>\n",
       "  </thead>\n",
       "  <tbody>\n",
       "    <tr>\n",
       "      <td>0</td>\n",
       "      <td>1</td>\n",
       "      <td>0.000000</td>\n",
       "      <td>0.497009</td>\n",
       "      <td>0.10</td>\n",
       "      <td>0.0</td>\n",
       "      <td>0.132956</td>\n",
       "      <td>0.678031</td>\n",
       "      <td>0.273166</td>\n",
       "      <td>0.585445</td>\n",
       "      <td>0.743663</td>\n",
       "      <td>...</td>\n",
       "      <td>0</td>\n",
       "      <td>0</td>\n",
       "      <td>0</td>\n",
       "      <td>0</td>\n",
       "      <td>0</td>\n",
       "      <td>0</td>\n",
       "      <td>0</td>\n",
       "      <td>0</td>\n",
       "      <td>0</td>\n",
       "      <td>0</td>\n",
       "    </tr>\n",
       "    <tr>\n",
       "      <td>1</td>\n",
       "      <td>1</td>\n",
       "      <td>0.366667</td>\n",
       "      <td>0.606291</td>\n",
       "      <td>0.05</td>\n",
       "      <td>0.0</td>\n",
       "      <td>0.111209</td>\n",
       "      <td>0.803455</td>\n",
       "      <td>0.106105</td>\n",
       "      <td>0.411754</td>\n",
       "      <td>0.836582</td>\n",
       "      <td>...</td>\n",
       "      <td>1</td>\n",
       "      <td>1</td>\n",
       "      <td>1</td>\n",
       "      <td>1</td>\n",
       "      <td>0</td>\n",
       "      <td>1</td>\n",
       "      <td>0</td>\n",
       "      <td>0</td>\n",
       "      <td>1</td>\n",
       "      <td>0</td>\n",
       "    </tr>\n",
       "    <tr>\n",
       "      <td>2</td>\n",
       "      <td>1</td>\n",
       "      <td>0.033300</td>\n",
       "      <td>0.480124</td>\n",
       "      <td>0.00</td>\n",
       "      <td>0.0</td>\n",
       "      <td>0.209791</td>\n",
       "      <td>0.610350</td>\n",
       "      <td>0.356453</td>\n",
       "      <td>0.517720</td>\n",
       "      <td>0.679051</td>\n",
       "      <td>...</td>\n",
       "      <td>0</td>\n",
       "      <td>0</td>\n",
       "      <td>0</td>\n",
       "      <td>0</td>\n",
       "      <td>0</td>\n",
       "      <td>0</td>\n",
       "      <td>0</td>\n",
       "      <td>0</td>\n",
       "      <td>0</td>\n",
       "      <td>0</td>\n",
       "    </tr>\n",
       "    <tr>\n",
       "      <td>3</td>\n",
       "      <td>1</td>\n",
       "      <td>0.000000</td>\n",
       "      <td>0.538825</td>\n",
       "      <td>0.00</td>\n",
       "      <td>0.5</td>\n",
       "      <td>0.196344</td>\n",
       "      <td>0.724230</td>\n",
       "      <td>0.235606</td>\n",
       "      <td>0.288764</td>\n",
       "      <td>0.805110</td>\n",
       "      <td>...</td>\n",
       "      <td>0</td>\n",
       "      <td>0</td>\n",
       "      <td>0</td>\n",
       "      <td>0</td>\n",
       "      <td>0</td>\n",
       "      <td>0</td>\n",
       "      <td>0</td>\n",
       "      <td>0</td>\n",
       "      <td>0</td>\n",
       "      <td>0</td>\n",
       "    </tr>\n",
       "    <tr>\n",
       "      <td>4</td>\n",
       "      <td>0</td>\n",
       "      <td>0.100000</td>\n",
       "      <td>0.517794</td>\n",
       "      <td>0.00</td>\n",
       "      <td>0.0</td>\n",
       "      <td>0.494734</td>\n",
       "      <td>0.781422</td>\n",
       "      <td>0.154361</td>\n",
       "      <td>0.303809</td>\n",
       "      <td>0.812646</td>\n",
       "      <td>...</td>\n",
       "      <td>0</td>\n",
       "      <td>0</td>\n",
       "      <td>0</td>\n",
       "      <td>0</td>\n",
       "      <td>0</td>\n",
       "      <td>0</td>\n",
       "      <td>0</td>\n",
       "      <td>0</td>\n",
       "      <td>0</td>\n",
       "      <td>0</td>\n",
       "    </tr>\n",
       "  </tbody>\n",
       "</table>\n",
       "<p>5 rows × 1777 columns</p>\n",
       "</div>"
      ],
      "text/plain": [
       "   Activity        D1        D2    D3   D4        D5        D6        D7  \\\n",
       "0         1  0.000000  0.497009  0.10  0.0  0.132956  0.678031  0.273166   \n",
       "1         1  0.366667  0.606291  0.05  0.0  0.111209  0.803455  0.106105   \n",
       "2         1  0.033300  0.480124  0.00  0.0  0.209791  0.610350  0.356453   \n",
       "3         1  0.000000  0.538825  0.00  0.5  0.196344  0.724230  0.235606   \n",
       "4         0  0.100000  0.517794  0.00  0.0  0.494734  0.781422  0.154361   \n",
       "\n",
       "         D8        D9  ...  D1767  D1768  D1769  D1770  D1771  D1772  D1773  \\\n",
       "0  0.585445  0.743663  ...      0      0      0      0      0      0      0   \n",
       "1  0.411754  0.836582  ...      1      1      1      1      0      1      0   \n",
       "2  0.517720  0.679051  ...      0      0      0      0      0      0      0   \n",
       "3  0.288764  0.805110  ...      0      0      0      0      0      0      0   \n",
       "4  0.303809  0.812646  ...      0      0      0      0      0      0      0   \n",
       "\n",
       "   D1774  D1775  D1776  \n",
       "0      0      0      0  \n",
       "1      0      1      0  \n",
       "2      0      0      0  \n",
       "3      0      0      0  \n",
       "4      0      0      0  \n",
       "\n",
       "[5 rows x 1777 columns]"
      ]
     },
     "execution_count": 3,
     "metadata": {},
     "output_type": "execute_result"
    }
   ],
   "source": [
    "data.head()"
   ]
  },
  {
   "cell_type": "code",
   "execution_count": 4,
   "metadata": {},
   "outputs": [
    {
     "data": {
      "text/plain": [
       "(3751, 1777)"
      ]
     },
     "execution_count": 4,
     "metadata": {},
     "output_type": "execute_result"
    }
   ],
   "source": [
    "data.shape"
   ]
  },
  {
   "cell_type": "code",
   "execution_count": 5,
   "metadata": {},
   "outputs": [],
   "source": [
    "X = data.iloc[:, 1:].values\n",
    "Y = data['Activity'].values"
   ]
  },
  {
   "cell_type": "code",
   "execution_count": 6,
   "metadata": {},
   "outputs": [],
   "source": [
    "X_train, X_test, Y_train, Y_test = train_test_split(X, Y, \n",
    "                                                    test_size = 0.8, \n",
    "                                                    random_state = 241)"
   ]
  },
  {
   "cell_type": "code",
   "execution_count": 7,
   "metadata": {},
   "outputs": [],
   "source": [
    "def sigmoid(pred):\n",
    "    return 1 / (1 + np.exp(-pred))"
   ]
  },
  {
   "cell_type": "code",
   "execution_count": 8,
   "metadata": {},
   "outputs": [],
   "source": [
    "# рассчитываем ошибку между истинными ответами и предсказаниями, полученными из метода staged_decision_function\n",
    "def calculate_loss(Y, pred):\n",
    "    list_of_loss = []\n",
    "    for row in pred:\n",
    "        loss = log_loss(Y, row)\n",
    "        list_of_loss.append(loss)\n",
    "    return list_of_loss"
   ]
  },
  {
   "cell_type": "code",
   "execution_count": 9,
   "metadata": {},
   "outputs": [],
   "source": [
    "def GBS_search(X_train, X_test, Y_train, Y_test, learning_rate = 0.1):\n",
    "    GBC = GradientBoostingClassifier(n_estimators = 250, \n",
    "                                     verbose = True, \n",
    "                                     random_state = 241, \n",
    "                                     learning_rate = learning_rate)\n",
    "    GBC.fit(X_train, Y_train)\n",
    "    \n",
    "    # метод staged_decision_function позволяет получить предсказания на обучающей и тестовой выборке на каждой итерации\n",
    "    # возвращает генератор, поэтому превращаем список, далее в массив numpy (строки - итерации, столбцы - объекты выборки)\n",
    "    # reshape - чтобы убрать лишнюю ось\n",
    "    pred_train = np.array([x for x in GBC.staged_decision_function(X_train)]).reshape(250, 750)\n",
    "    pred_test = np.array([x for x in GBC.staged_decision_function(X_test)]).reshape(250, 3001)\n",
    "    # вместо этого можно использовать метод staged_predict_proba\n",
    "    \n",
    "    # преобразование предсказания с помощью сигмоидной функции\n",
    "    pred_train = sigmoid(pred_train)\n",
    "    pred_test = sigmoid(pred_test)\n",
    "    \n",
    "    train_loss = calculate_loss(Y_train, pred_train)\n",
    "    test_loss = calculate_loss(Y_test, pred_test)\n",
    "    \n",
    "    plt.figure()\n",
    "    plt.plot(test_loss, 'r', linewidth=2)\n",
    "    plt.plot(train_loss, 'g', linewidth=2)\n",
    "    plt.legend(['test', 'train'])\n",
    "    \n",
    "    # минимальное значение метрики и номер итерации, на которой оно достигается\n",
    "    min_loss_train = min(train_loss)\n",
    "    iter_train = train_loss.index(min_loss_train) + 1\n",
    "    \n",
    "    min_loss_test = min(test_loss)\n",
    "    iter_test = test_loss.index(min_loss_test) + 1\n",
    "    \n",
    "    print('min_loss_train: ', round(min_loss_train, 2), 'iter: ', iter_train)\n",
    "    print('min_loss_test: ', round(min_loss_test, 2), 'iter: ', iter_test)"
   ]
  },
  {
   "cell_type": "code",
   "execution_count": 10,
   "metadata": {},
   "outputs": [
    {
     "name": "stdout",
     "output_type": "stream",
     "text": [
      "      Iter       Train Loss   Remaining Time \n",
      "         1           1.0190           25.40s\n",
      "         2           0.9192           24.06s\n",
      "         3           0.8272           25.11s\n",
      "         4           0.7834           25.22s\n",
      "         5           0.7109           25.09s\n",
      "         6           0.6368           24.24s\n",
      "         7           0.5797           25.17s\n",
      "         8           0.5610           26.23s\n",
      "         9           0.5185           25.82s\n",
      "        10           0.4984           25.51s\n",
      "        20           0.1999           23.61s\n",
      "        30           0.1313           21.93s\n",
      "        40           0.0790           20.87s\n",
      "        50           0.0511           19.54s\n",
      "        60           0.0352           18.36s\n",
      "        70           0.0245           17.31s\n",
      "        80           0.0162           16.41s\n",
      "        90           0.0114           15.51s\n",
      "       100           0.0077           14.50s\n",
      "       200           0.0004            4.33s\n",
      "min_loss_train:  0.0 iter:  181\n",
      "min_loss_test:  0.58 iter:  1\n"
     ]
    },
    {
     "data": {
      "image/png": "[encoded data removed]",
      "text/plain": [
       "<Figure size 432x288 with 1 Axes>"
      ]
     },
     "metadata": {
      "needs_background": "light"
     },
     "output_type": "display_data"
    }
   ],
   "source": [
    "GBS_search(X_train, X_test, Y_train, Y_test, learning_rate = 1)"
   ]
  },
  {
   "cell_type": "code",
   "execution_count": 11,
   "metadata": {},
   "outputs": [
    {
     "name": "stdout",
     "output_type": "stream",
     "text": [
      "      Iter       Train Loss   Remaining Time \n",
      "         1           1.1255           23.66s\n",
      "         2           1.0035           21.82s\n",
      "         3           0.9386           22.81s\n",
      "         4           0.8844           23.62s\n",
      "         5           0.8381           23.77s\n",
      "         6           0.7995           23.99s\n",
      "         7           0.7559           23.81s\n",
      "         8           0.7205           23.59s\n",
      "         9           0.6958           23.38s\n",
      "        10           0.6725           23.28s\n",
      "        20           0.4672           22.14s\n",
      "        30           0.3179           21.44s\n",
      "        40           0.2274           20.07s\n",
      "        50           0.1774           19.01s\n",
      "        60           0.1394           17.94s\n",
      "        70           0.1050           17.01s\n",
      "        80           0.0805           15.97s\n",
      "        90           0.0650           15.00s\n",
      "       100           0.0511           13.99s\n",
      "       200           0.0058            4.67s\n",
      "min_loss_train:  0.0 iter:  250\n",
      "min_loss_test:  0.56 iter:  7\n"
     ]
    },
    {
     "data": {
      "image/png": "[encoded data removed]",
      "text/plain": [
       "<Figure size 432x288 with 1 Axes>"
      ]
     },
     "metadata": {
      "needs_background": "light"
     },
     "output_type": "display_data"
    }
   ],
   "source": [
    "GBS_search(X_train, X_test, Y_train, Y_test, learning_rate = 0.5)"
   ]
  },
  {
   "cell_type": "code",
   "execution_count": 12,
   "metadata": {},
   "outputs": [
    {
     "name": "stdout",
     "output_type": "stream",
     "text": [
      "      Iter       Train Loss   Remaining Time \n",
      "         1           1.2095           29.14s\n",
      "         2           1.1006           24.30s\n",
      "         3           1.0240           24.37s\n",
      "         4           0.9729           23.86s\n",
      "         5           0.9387           24.16s\n",
      "         6           0.8948           23.59s\n",
      "         7           0.8621           23.61s\n",
      "         8           0.8360           23.29s\n",
      "         9           0.8171           23.27s\n",
      "        10           0.7883           23.11s\n",
      "        20           0.6029           22.03s\n",
      "        30           0.4760           20.69s\n",
      "        40           0.3879           19.60s\n",
      "        50           0.3325           18.60s\n",
      "        60           0.2759           18.01s\n",
      "        70           0.2304           16.99s\n",
      "        80           0.1969           16.01s\n",
      "        90           0.1718           15.07s\n",
      "       100           0.1404           14.19s\n",
      "       200           0.0358            4.74s\n",
      "min_loss_train:  0.01 iter:  250\n",
      "min_loss_test:  0.54 iter:  11\n"
     ]
    },
    {
     "data": {
      "image/png": "[encoded data removed]",
      "text/plain": [
       "<Figure size 432x288 with 1 Axes>"
      ]
     },
     "metadata": {
      "needs_background": "light"
     },
     "output_type": "display_data"
    }
   ],
   "source": [
    "GBS_search(X_train, X_test, Y_train, Y_test, learning_rate = 0.3)"
   ]
  },
  {
   "cell_type": "code",
   "execution_count": 13,
   "metadata": {},
   "outputs": [
    {
     "name": "stdout",
     "output_type": "stream",
     "text": [
      "      Iter       Train Loss   Remaining Time \n",
      "         1           1.2613           26.90s\n",
      "         2           1.1715           23.57s\n",
      "         3           1.1009           23.55s\n",
      "         4           1.0529           23.12s\n",
      "         5           1.0130           23.13s\n",
      "         6           0.9740           23.75s\n",
      "         7           0.9475           23.71s\n",
      "         8           0.9197           23.35s\n",
      "         9           0.8979           23.03s\n",
      "        10           0.8730           22.66s\n",
      "        20           0.7207           21.94s\n",
      "        30           0.6055           20.83s\n",
      "        40           0.5244           19.75s\n",
      "        50           0.4501           18.77s\n",
      "        60           0.3908           18.05s\n",
      "        70           0.3372           17.15s\n",
      "        80           0.3009           16.10s\n",
      "        90           0.2603           15.07s\n",
      "       100           0.2327           14.09s\n",
      "       200           0.0835            4.70s\n",
      "min_loss_train:  0.02 iter:  250\n",
      "min_loss_test:  0.53 iter:  37\n"
     ]
    },
    {
     "data": {
      "image/png": "[encoded data removed]",
      "text/plain": [
       "<Figure size 432x288 with 1 Axes>"
      ]
     },
     "metadata": {
      "needs_background": "light"
     },
     "output_type": "display_data"
    }
   ],
   "source": [
    "GBS_search(X_train, X_test, Y_train, Y_test, learning_rate = 0.2)"
   ]
  },
  {
   "cell_type": "code",
   "execution_count": 14,
   "metadata": {},
   "outputs": [
    {
     "name": "stdout",
     "output_type": "stream",
     "text": [
      "      Iter       Train Loss   Remaining Time \n",
      "         1           1.3199           25.91s\n",
      "         2           1.2645           23.68s\n",
      "         3           1.2170           24.70s\n",
      "         4           1.1775           24.35s\n",
      "         5           1.1404           24.35s\n",
      "         6           1.1106           23.83s\n",
      "         7           1.0844           23.57s\n",
      "         8           1.0617           23.14s\n",
      "         9           1.0411           22.79s\n",
      "        10           1.0223           22.44s\n",
      "        20           0.8864           21.45s\n",
      "        30           0.7844           20.31s\n",
      "        40           0.7176           19.44s\n",
      "        50           0.6590           18.68s\n",
      "        60           0.6120           17.73s\n",
      "        70           0.5599           16.74s\n",
      "        80           0.5242           15.80s\n",
      "        90           0.4829           14.84s\n",
      "       100           0.4473           13.90s\n",
      "       200           0.2379            4.70s\n",
      "min_loss_train:  0.09 iter:  250\n",
      "min_loss_test:  0.53 iter:  52\n"
     ]
    },
    {
     "data": {
      "image/png": "[encoded data removed]",
      "text/plain": [
       "<Figure size 432x288 with 1 Axes>"
      ]
     },
     "metadata": {
      "needs_background": "light"
     },
     "output_type": "display_data"
    }
   ],
   "source": [
    "GBS_search(X_train, X_test, Y_train, Y_test, learning_rate = 0.1)"
   ]
  },
  {
   "cell_type": "markdown",
   "metadata": {},
   "source": [
    "На этих же данных обучите RandomForestClassifier с количеством деревьев, равным количеству итераций, на котором достигается наилучшее качество у градиентного бустинга с learning_rate = 0.2"
   ]
  },
  {
   "cell_type": "code",
   "execution_count": 15,
   "metadata": {},
   "outputs": [
    {
     "data": {
      "text/plain": [
       "RandomForestClassifier(bootstrap=True, ccp_alpha=0.0, class_weight=None,\n",
       "                       criterion='gini', max_depth=None, max_features='auto',\n",
       "                       max_leaf_nodes=None, max_samples=None,\n",
       "                       min_impurity_decrease=0.0, min_impurity_split=None,\n",
       "                       min_samples_leaf=1, min_samples_split=2,\n",
       "                       min_weight_fraction_leaf=0.0, n_estimators=37,\n",
       "                       n_jobs=None, oob_score=False, random_state=241,\n",
       "                       verbose=0, warm_start=False)"
      ]
     },
     "execution_count": 15,
     "metadata": {},
     "output_type": "execute_result"
    }
   ],
   "source": [
    "RFC = RandomForestClassifier(n_estimators = 37, random_state = 241)\n",
    "RFC.fit(X_train, Y_train)"
   ]
  },
  {
   "cell_type": "code",
   "execution_count": 16,
   "metadata": {},
   "outputs": [],
   "source": [
    "pred = RFC.predict_proba(X_test)"
   ]
  },
  {
   "cell_type": "code",
   "execution_count": 17,
   "metadata": {},
   "outputs": [
    {
     "data": {
      "text/plain": [
       "0.54"
      ]
     },
     "execution_count": 17,
     "metadata": {},
     "output_type": "execute_result"
    }
   ],
   "source": [
    "round(log_loss(Y_test, pred), 2)"
   ]
  },
  {
   "cell_type": "markdown",
   "metadata": {},
   "source": [
    "Cлучайный лес может показать более высокое качество при неограниченных ресурсах — так, он выиграет у градиентного бустинга на наших данных, если увеличить число деревьев до нескольких сотен"
   ]
  },
  {
   "cell_type": "code",
   "execution_count": 18,
   "metadata": {},
   "outputs": [
    {
     "data": {
      "text/plain": [
       "0.5244605353708105"
      ]
     },
     "execution_count": 18,
     "metadata": {},
     "output_type": "execute_result"
    }
   ],
   "source": [
    "RFC2 = RandomForestClassifier(n_estimators = 250, random_state = 241)\n",
    "RFC2.fit(X_train, Y_train)\n",
    "pred = RFC2.predict_proba(X_test)\n",
    "log_loss(Y_test, pred)"
   ]
  },
  {
   "cell_type": "code",
   "execution_count": null,
   "metadata": {},
   "outputs": [],
   "source": []
  }
 ],
 "metadata": {
  "kernelspec": {
   "display_name": "Python 3",
   "language": "python",
   "name": "python3"
  },
  "language_info": {
   "codemirror_mode": {
    "name": "ipython",
    "version": 3
   },
   "file_extension": ".py",
   "mimetype": "text/x-python",
   "name": "python",
   "nbconvert_exporter": "python",
   "pygments_lexer": "ipython3",
   "version": "3.7.3"
  }
 },
 "nbformat": 4,
 "nbformat_minor": 2
}
